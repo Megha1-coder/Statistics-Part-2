{
  "nbformat": 4,
  "nbformat_minor": 0,
  "metadata": {
    "colab": {
      "provenance": []
    },
    "kernelspec": {
      "name": "python3",
      "display_name": "Python 3"
    },
    "language_info": {
      "name": "python"
    }
  },
  "cells": [
    {
      "cell_type": "code",
      "execution_count": null,
      "metadata": {
        "id": "c-D1ZpSRg7_B"
      },
      "outputs": [],
      "source": []
    },
    {
      "cell_type": "markdown",
      "source": [
        "**THEORY QUESTIONS**"
      ],
      "metadata": {
        "id": "MM9bwxRKoSzb"
      }
    },
    {
      "cell_type": "markdown",
      "source": [
        "Q 1: What is hypothesis testing in statistics?\n",
        "A 1: Hypothesis Testing is a type of statistical analysis in which you put your assumptions about a population parameter to the test. It is used to estimate the relationship between 2 statistical variables.\n",
        "\n",
        "\n",
        "Q 2: What is the null hypothesis, and how does it differ from the alternative hypothesis?\n",
        "A 2: The null hypothesis is the statement or claim being made (which we are trying to disprove) and the alternative hypothesis is the hypothesis that we are trying to prove and which is accepted if we have sufficient evidence to reject the null hypothesis.\n",
        "\n",
        "\n",
        "Q 3: What is the significance level in hypothesis testing, and why is it important?\n",
        "A 3: The level of significance is the measurement of the statistical significance. It defines whether the null hypothesis is assumed to be accepted or rejected. It is expected to identify if the result is statistically significant for the null hypothesis to be false or rejected.\n",
        "\n",
        "\n",
        "Q 4: What does a P-value represent in hypothesis testing?\n",
        "A 4: A p-value is a statistical measurement used to validate a hypothesis against observed data. A p-value measures the probability of obtaining the observed results, assuming that the null hypothesis is true. The lower the p-value, the greater the statistical significance of the observed difference.\n",
        "\n",
        "\n",
        "Q 5: How do you interpret the P-value in hypothesis testing?\n",
        "A 5: A p-value is a statistical measurement used to validate a hypothesis against observed data. A p-value measures the probability of obtaining the observed results, assuming that the null hypothesis is true. The lower the p-value, the greater the statistical significance of the observed difference.\n",
        "\n",
        "\n",
        "Q 6: What are Type 1 and Type 2 errors in hypothesis testing?\n",
        "A 6: A type I error (false-positive) occurs if an investigator rejects a null hypothesis that is actually true in the population; a type II error (false-negative) occurs if the investigator fails to reject a null hypothesis that is actually false in the population.\n",
        "\n",
        "\n",
        "Q 7: What is the difference between a one-tailed and a two-tailed test in hypothesis testing?\n",
        "A 7: The main difference between one-tailed and two-tailed tests is that one-tailed tests will only have one critical region whereas two-tailed tests will have two critical regions. If we require a 100(1-α) 100 ( 1 - α ) % confidence interval we have to make some adjustments when using a two-tailed test.\n",
        "\n",
        "\n",
        "Q 8: What is the Z-test, and when is it used in hypothesis testing?\n",
        "A 8: A z-test is a statistical test used to determine whether two population means are different when the variances are known and the sample size is large. It can also be used to compare one mean to a hypothesized value. The data must approximately fit a normal distribution, otherwise the test doesn't work.\n",
        "\n",
        "\n",
        "Q 9: How do you calculate the Z-score, and what does it represent in hypothesis testing?\n",
        "A 9: A Z-score is calculated by subtracting the population mean from a data point and then dividing the result by the population standard deviation, using the formula: Z = (X - μ) / σ; it represents how many standard deviations a data point is away from the population mean, allowing you to compare data points from different distributions in hypothesis testing and determine how significant a deviation is from the expected value.\n",
        "\n",
        "\n",
        "Q 10: What is the T-distribution, and when should it be used instead of the normal distribution?\n",
        "A 10: The T-distribution, also known as Student's t-distribution, is a statistical distribution similar to the normal distribution but with \"heavier tails,\" meaning it is more likely to produce extreme values, and is primarily used when dealing with small sample sizes or situations where the population standard deviation is unknown, making it necessary to estimate it from the sample data; in such cases, using the T-distribution provides a more accurate analysis compared to the normal distribution.\n",
        "\n",
        "\n",
        "Q 11: What is the difference between a Z-test and a T-test?\n",
        "A 11: Z-tests are statistical calculations that can be used to compare population means to a sample's. T-tests are calculations used to test a hypothesis, but they are most useful when we need to determine if there is a statistically significant difference between two independent sample groups.\n",
        "\n",
        "\n",
        "Q 12: What is the T-test, and how is it used in hypothesis testing?\n",
        "A 12: A t-test is a statistical test that compares the means of two samples. It is used in hypothesis testing, with a null hypothesis that the difference in group means is zero and an alternate hypothesis that the difference in group means is different from zero.\n",
        "\n",
        "\n",
        "Q 13: What is the relationship between Z-test and T-test in hypothesis testing?\n",
        "A 13: z-tests are used when we have large sample sizes (n > 30), whereas t-tests are most helpful with a smaller sample size (n < 30). Both methods assume a normal distribution of the data, but the z-tests are most useful when the standard deviation is known.\n",
        "\n",
        "\n",
        "Q 14: What is a confidence interval, and how is it used to interpret statistical results?\n",
        "A 14: A confidence interval shows the probability that a parameter will fall between a pair of values around the mean. Confidence intervals show the degree of uncertainty or certainty in a sampling method. They are constructed using confidence levels of 95% or 99%.\n",
        "\n",
        "\n",
        "Q 15: What is the margin of error, and how does it affect the confidence interval?\n",
        "A 15: A \"margin of error\" is a statistical measure that indicates the range of uncertainty around a survey result or estimate, essentially telling you how much the true population value could differ from the sample result; it is calculated as half the width of a confidence interval, meaning a larger margin of error results in a wider confidence interval, signifying less precision in the data analysis.\n",
        "\n",
        "\n",
        "Q 16: How is Bayes' Theorem used in statistics, and what is its significance?\n",
        "A 16: Bayes' theorem describes the probability of occurrence of an event related to any condition. It is also considered for the case of conditional probability. Bayes theorem is also known as the formula for the probability of “causes”.\n",
        "\n",
        "\n",
        "Q 17: What is the Chi-square distribution, and when is it used?\n",
        "A 17: Chi-square distributions (X2) are a type of continuous probability distribution. They're commonly utilized in hypothesis testing, such as the chi-square goodness of fit and independence tests. The parameter k, which represents the degrees of freedom, determines the shape of a chi-square distribution.\n",
        "\n",
        "\n",
        "Q 18: What is the Chi-square goodness of fit test, and how is it applied?\n",
        "A 18: The Chi-square goodness of fit test is a statistical hypothesis test used to determine whether a variable is likely to come from a specified distribution or not. It is often used to evaluate whether sample data is representative of the full population.\n",
        "\n",
        "\n",
        "Q 19: What is the F-distribution, and when is it used in hypothesis testing?\n",
        "A 19: F test is a statistical test that is used in hypothesis testing to check whether the variances of two populations or two samples are equal or not. In an f test, the data follows an f distribution. This test uses the f statistic to compare two variances by dividing them.\n",
        "\n",
        "\n",
        "Q 20: What is an ANOVA test, and what are its assumptions?\n",
        "A 20: ANOVA assumes that the data is normally distributed. The ANOVA also assumes homogeneity of variance, which means that the variance among the groups should be approximately equal.\n",
        "\n",
        "\n",
        "Q 21: What are the different types of ANOVA tests?\n",
        "A 21: There are two main types of ANOVA: (1) \"One-way\" ANOVA compares levels (i.e. groups) of a single factor based on single continuous response variable (e.g. comparing test score by level of education) and (2) a \"two-way\" ANOVA compares levels of two or more factors for mean differences on a single continuous response.\n",
        "\n",
        "\n",
        "Q 22: What is the F-test, and how does it relate to hypothesis testing?\n",
        "A 22: F test is a statistical test that is used in hypothesis testing to check whether the variances of two populations or two samples are equal or not. In an f test, the data follows an f distribution. This test uses the f statistic to compare two variances by dividing them."
      ],
      "metadata": {
        "id": "nbiPZsXQg9yW"
      }
    },
    {
      "cell_type": "markdown",
      "source": [
        "**PRACTICAL QUESTIONS**"
      ],
      "metadata": {
        "id": "3AIHbL9toZjZ"
      }
    },
    {
      "cell_type": "code",
      "source": [
        "#Q 1: Write a Python program to perform a Z-test for comparing a sample mean to a known population mean and\n",
        "# interpret the results?\n",
        "import numpy as np\n",
        "from scipy.stats import norm  # Import the normal distribution from scipy.stats\n",
        "\n",
        "# Sample data\n",
        "sample_data = [10, 12, 15, 13, 11, 14, 16, 12, 10, 11]\n",
        "\n",
        "# Known population mean\n",
        "population_mean = 12\n",
        "\n",
        "# Population standard deviation\n",
        "population_std = 2\n",
        "\n",
        "# Calculate sample mean\n",
        "sample_mean = np.mean(sample_data)\n",
        "\n",
        "# Sample size\n",
        "n = len(sample_data)\n",
        "\n",
        "# Calculate the Z-score\n",
        "z_score = (sample_mean - population_mean) / (population_std / np.sqrt(n))\n",
        "\n",
        "# Set significance level (alpha)\n",
        "alpha = 0.05\n",
        "\n",
        "# Calculate p-value (two-tailed test)\n",
        "p_value = 2 * (1 - norm.cdf(abs(z_score)))\n",
        "\n",
        "print(\"Z-score:\", z_score)\n",
        "print(\"P-value:\", p_value)\n",
        "\n",
        "# Interpretation\n",
        "if p_value < alpha:\n",
        "    print(\"Reject the null hypothesis: There is a significant difference between the sample mean and population mean.\")\n",
        "else:\n",
        "    print(\"Fail to reject the null hypothesis: No significant difference between the sample mean and population mean.\")\n"
      ],
      "metadata": {
        "colab": {
          "base_uri": "https://localhost:8080/"
        },
        "id": "-zCeZP1QodRt",
        "outputId": "9db895a0-e3f3-41d7-f147-ffac3bc1252d"
      },
      "execution_count": null,
      "outputs": [
        {
          "output_type": "stream",
          "name": "stdout",
          "text": [
            "Z-score: 0.6324555320336764\n",
            "P-value: 0.5270892568655376\n",
            "Fail to reject the null hypothesis: No significant difference between the sample mean and population mean.\n"
          ]
        }
      ]
    },
    {
      "cell_type": "code",
      "source": [
        "# Q 2: Simulate random data to perform hypothesis testing and calculate the corresponding P-value using Python.\n",
        "population = np.random.randn(100)\n",
        "population\n",
        "null_mean = 0.09 #hypothesis\n",
        "#alternate >= 0.09"
      ],
      "metadata": {
        "id": "YwIRQ3-OpPxw"
      },
      "execution_count": null,
      "outputs": []
    },
    {
      "cell_type": "code",
      "source": [
        "from statsmodels.stats.weightstats import ztest\n",
        "zscore, pvalue = ztest(population, value = null_mean, alternative = 'larger')"
      ],
      "metadata": {
        "id": "0rE7E6y2rCfX"
      },
      "execution_count": null,
      "outputs": []
    },
    {
      "cell_type": "code",
      "source": [
        "zscore"
      ],
      "metadata": {
        "colab": {
          "base_uri": "https://localhost:8080/"
        },
        "id": "-l51BFCMrDTr",
        "outputId": "c6c8a692-b57a-472f-a7c7-9355af95cb61"
      },
      "execution_count": null,
      "outputs": [
        {
          "output_type": "execute_result",
          "data": {
            "text/plain": [
              "-1.1525455421442874"
            ]
          },
          "metadata": {},
          "execution_count": 6
        }
      ]
    },
    {
      "cell_type": "code",
      "source": [
        "pvalue"
      ],
      "metadata": {
        "colab": {
          "base_uri": "https://localhost:8080/"
        },
        "id": "34VEudokrQau",
        "outputId": "8cfdc29b-5e0a-4fb8-fa81-f203438c4f3f"
      },
      "execution_count": null,
      "outputs": [
        {
          "output_type": "execute_result",
          "data": {
            "text/plain": [
              "0.8754515167041321"
            ]
          },
          "metadata": {},
          "execution_count": 7
        }
      ]
    },
    {
      "cell_type": "code",
      "source": [
        "#Q 3: Implement a one-sample Z-test using Python to compare the sample mean with the population mean.\n",
        "import scipy.stats as stats #zcritical approach\n",
        "\n",
        "sample_mean = 100\n",
        "population_mean = 90\n",
        "population_std = 16\n",
        "sample_size = 60\n",
        "alpha = 0.05\n",
        "zscore = (sample_mean - population_mean) / (population_std/np.sqrt(50))\n",
        "print(\"The zscore is\", zscore)"
      ],
      "metadata": {
        "colab": {
          "base_uri": "https://localhost:8080/"
        },
        "id": "cuE00D03rT46",
        "outputId": "fbf544d6-0483-4b25-ffc1-e4c73a283575"
      },
      "execution_count": null,
      "outputs": [
        {
          "output_type": "stream",
          "name": "stdout",
          "text": [
            "The zscore is 4.419417382415922\n"
          ]
        }
      ]
    },
    {
      "cell_type": "code",
      "source": [
        "#for zcritical scipy.stats\n",
        "#norm>>normal distibution\n",
        "#ppf >> percent point function >>inverse of cumulative distribution function(cdf)\n",
        "zcritical = stats.norm.ppf(1-alpha)\n",
        "if zscore > zcritical:\n",
        "    print(\"Reject the null hypothesis\")\n",
        "else:\n",
        "    print(\"fail to reject the null hypothesis\")\n"
      ],
      "metadata": {
        "colab": {
          "base_uri": "https://localhost:8080/"
        },
        "id": "1GYNPVbgt0m6",
        "outputId": "ee42ccd5-36d7-40b8-cb13-5bb5314153cb"
      },
      "execution_count": null,
      "outputs": [
        {
          "output_type": "stream",
          "name": "stdout",
          "text": [
            "Reject the null hypothesis\n"
          ]
        }
      ]
    },
    {
      "cell_type": "code",
      "source": [
        "#Q 4: Perform a two-tailed Z-test using Python and visualize the decision region on a plot.\n",
        "import numpy as np\n",
        "import matplotlib.pyplot as plt\n",
        "import scipy.stats as stats"
      ],
      "metadata": {
        "id": "g-3to2MFt8TY"
      },
      "execution_count": null,
      "outputs": []
    },
    {
      "cell_type": "code",
      "source": [],
      "metadata": {
        "id": "1QRLe8EE5OVk"
      },
      "execution_count": null,
      "outputs": []
    },
    {
      "cell_type": "code",
      "source": [
        "mu, sigma = 330, 25 # mu population mean\n",
        "x_bar = 320 # sample mean"
      ],
      "metadata": {
        "id": "7fWLhwvt5UzW"
      },
      "execution_count": null,
      "outputs": []
    },
    {
      "cell_type": "code",
      "source": [
        "# calculate the test statistic\n",
        "test_stat = (x_bar - mu) / (sigma/np.sqrt(36))\n",
        "test_stat\n"
      ],
      "metadata": {
        "colab": {
          "base_uri": "https://localhost:8080/"
        },
        "id": "e5uuDv8v5WUu",
        "outputId": "ca6b9285-6e65-4892-9b0c-2ae8909abbb6"
      },
      "execution_count": null,
      "outputs": [
        {
          "output_type": "execute_result",
          "data": {
            "text/plain": [
              "-2.4"
            ]
          },
          "metadata": {},
          "execution_count": 32
        }
      ]
    },
    {
      "cell_type": "code",
      "source": [
        "from scipy.stats import norm# find the critical values\n",
        "critical_val1 = norm.ppf(1-(0.05/2))\n",
        "critical_val2 = norm.ppf(0.05/2)# plot the rejection and acceptance region\n",
        "x = np.linspace(-4, 4, 100)\n",
        "plt.plot(x, norm.pdf(x, 0, 1))\n",
        "plt.axvline(x = critical_val1, c = 'r')\n",
        "x1 = np.linspace(critical_val1, 4, 50)\n",
        "plt.fill_between(x1, norm.pdf(x1, 0, 1), color='r')\n",
        "plt.axvline(x = critical_val2, c = 'r')\n",
        "x1 = np.linspace(-4, critical_val2, 50)\n",
        "plt.fill_between(x1, norm.pdf(x1, 0, 1), color='r')\n",
        "plt.annotate('Reject Null', (2.2, 0.20))\n",
        "plt.annotate('Reject Null', (-3.5, 0.20))\n",
        "plt.annotate('  Do Not Reject\\n        Null', (-1, 0.20))\n",
        "plt.show()\n"
      ],
      "metadata": {
        "colab": {
          "base_uri": "https://localhost:8080/",
          "height": 430
        },
        "id": "2iDH67q35aFR",
        "outputId": "8182ee07-390a-44cb-ea6d-38674e180cf9"
      },
      "execution_count": null,
      "outputs": [
        {
          "output_type": "display_data",
          "data": {
            "text/plain": [
              "<Figure size 640x480 with 1 Axes>"
            ],
            "image/png": "[encoded data removed]"
          },
          "metadata": {}
        }
      ]
    },
    {
      "cell_type": "code",
      "source": [
        "#Q 5: Create a Python function that calculates and visualizes Type 1 and Type 2 errors during hypothesis testing.\n",
        "import scipy.stats as stats\n",
        "\n",
        "import matplotlib.pyplot as plt\n",
        "\n",
        "\n",
        "\n",
        "# Set parameters\n",
        "\n",
        "mu_null = 0  # Mean under null hypothesis\n",
        "\n",
        "mu_alt = 0.5  # Mean under alternative hypothesis\n",
        "\n",
        "sigma = 1  # Standard deviation\n",
        "\n",
        "alpha = 0.05  # Significance level\n",
        "\n",
        "\n",
        "\n",
        "# Generate sample data\n",
        "\n",
        "sample_size = 100\n",
        "\n",
        "data_null = stats.norm.rvs(mu_null, sigma, size=sample_size)\n",
        "\n",
        "data_alt = stats.norm.rvs(mu_alt, sigma, size=sample_size)\n",
        "\n",
        "\n",
        "\n",
        "# Calculate critical values\n",
        "\n",
        "z_crit = stats.norm.ppf(1 - alpha)\n",
        "\n",
        "\n",
        "\n",
        "# Calculate Type 1 error probability\n",
        "\n",
        "type1_error = stats.norm.sf(z_crit, loc=mu_null, scale=sigma)\n",
        "\n",
        "\n",
        "\n",
        "# Calculate Type 2 error probability\n",
        "\n",
        "type2_error = stats.norm.cdf(z_crit, loc=mu_alt, scale=sigma)\n",
        "\n",
        "\n",
        "\n",
        "# Visualization\n",
        "\n",
        "x = np.linspace(mu_null - 3*sigma, mu_null + 3*sigma, 100)\n",
        "\n",
        "y_null = stats.norm.pdf(x, loc=mu_null, scale=sigma)\n",
        "\n",
        "y_alt = stats.norm.pdf(x, loc=mu_alt, scale=sigma)\n",
        "\n",
        "\n",
        "\n",
        "plt.plot(x, y_null, label=\"Null Hypothesis\")\n",
        "\n",
        "plt.plot(x, y_alt, label=\"Alternative Hypothesis\")\n",
        "\n",
        "plt.fill_between(x[x > z_crit], y_null[x > z_crit], color='red', alpha=0.3, label=\"Type 1 Error\")\n",
        "\n",
        "plt.fill_between(x[x < z_crit], y_alt[x < z_crit], color='blue', alpha=0.3, label=\"Type 2 Error\")\n",
        "\n",
        "plt.legend()\n",
        "\n",
        "plt.show()\n",
        "\n",
        "\n",
        "\n",
        "print(\"Type 1 Error Probability:\", type1_error)\n",
        "\n",
        "print(\"Type 2 Error Probability:\", type2_error)"
      ],
      "metadata": {
        "colab": {
          "base_uri": "https://localhost:8080/",
          "height": 465
        },
        "id": "a3gRC09G5jF6",
        "outputId": "1ed3e6bf-d941-404d-864c-49a4d0e84053"
      },
      "execution_count": null,
      "outputs": [
        {
          "output_type": "display_data",
          "data": {
            "text/plain": [
              "<Figure size 640x480 with 1 Axes>"
            ],
            "image/png": "[encoded data removed]"
          },
          "metadata": {}
        },
        {
          "output_type": "stream",
          "name": "stdout",
          "text": [
            "Type 1 Error Probability: 0.050000000000000044\n",
            "Type 2 Error Probability: 0.8738651018065696\n"
          ]
        }
      ]
    },
    {
      "cell_type": "code",
      "source": [
        "# Q 6: Write a Python program to perform an independent T-test and interpret the results.\n",
        "from scipy import stats\n",
        "\n",
        "# Sample data for two groups\n",
        "group_a = [10, 12, 15, 13, 11, 14]\n",
        "group_b = [8, 9, 10, 7, 11, 12]\n",
        "\n",
        "# Perform the independent t-test\n",
        "t_stat, p_value = stats.ttest_ind(group_a, group_b)\n",
        "\n",
        "# Set significance level (alpha)\n",
        "alpha = 0.05\n",
        "\n",
        "print(\"T-statistic:\", t_stat)\n",
        "print(\"P-value:\", p_value)\n",
        "\n",
        "# Interpretation\n",
        "if p_value < alpha:\n",
        "    print(\"Reject the null hypothesis: There is a significant difference between the two groups.\")\n",
        "else:\n",
        "    print(\"Fail to reject the null hypothesis: No significant difference between the groups.\")"
      ],
      "metadata": {
        "colab": {
          "base_uri": "https://localhost:8080/"
        },
        "id": "AJZ1inH-5s7o",
        "outputId": "e3f42615-a525-4fb3-99d0-8d6bf8a90b19"
      },
      "execution_count": null,
      "outputs": [
        {
          "output_type": "stream",
          "name": "stdout",
          "text": [
            "T-statistic: 2.7774602993176547\n",
            "P-value: 0.01953560546266314\n",
            "Reject the null hypothesis: There is a significant difference between the two groups.\n"
          ]
        }
      ]
    },
    {
      "cell_type": "code",
      "source": [
        "# Q 7: Perform a paired sample T-test using Python and visualize the comparison results.\n",
        "pre = [88, 82, 84, 93, 75, 78, 84, 87, 95, 91, 83, 89, 77, 68, 91]\n",
        "post = [91, 84, 88, 90, 79, 80, 88, 90, 90, 96, 88, 89, 81, 74, 92]"
      ],
      "metadata": {
        "id": "4Fa4Lijv_0-h"
      },
      "execution_count": null,
      "outputs": []
    },
    {
      "cell_type": "code",
      "source": [
        "import scipy.stats as stats\n",
        "import matplotlib.pyplot as plt\n",
        "\n",
        "#perform the paired samples t-test\n",
        "s= stats.ttest_rel(pre, post)\n"
      ],
      "metadata": {
        "id": "V0HoAqbCArda"
      },
      "execution_count": null,
      "outputs": []
    },
    {
      "cell_type": "code",
      "source": [
        "s"
      ],
      "metadata": {
        "colab": {
          "base_uri": "https://localhost:8080/"
        },
        "id": "w3gWFJoAAxmi",
        "outputId": "f7801032-1e11-4df6-fb8c-8a8050e69db8"
      },
      "execution_count": null,
      "outputs": [
        {
          "output_type": "execute_result",
          "data": {
            "text/plain": [
              "TtestResult(statistic=-2.9732484231168796, pvalue=0.01007144862643272, df=14)"
            ]
          },
          "metadata": {},
          "execution_count": 41
        }
      ]
    },
    {
      "cell_type": "code",
      "source": [
        "sns.distplot(s)"
      ],
      "metadata": {
        "colab": {
          "base_uri": "https://localhost:8080/",
          "height": 450
        },
        "id": "04s7pgYOC2LU",
        "outputId": "bb02b6c1-11ae-4806-a54e-268fa18ec03e"
      },
      "execution_count": null,
      "outputs": [
        {
          "output_type": "execute_result",
          "data": {
            "text/plain": [
              "<Axes: ylabel='Density'>"
            ]
          },
          "metadata": {},
          "execution_count": 42
        },
        {
          "output_type": "display_data",
          "data": {
            "text/plain": [
              "<Figure size 640x480 with 1 Axes>"
            ],
            "image/png": "[encoded data removed]"
          },
          "metadata": {}
        }
      ]
    },
    {
      "cell_type": "code",
      "source": [
        "# Q 8: Simulate data and perform both Z-test and T-test, then compare the results using Python.\n",
        "import numpy as np\n",
        "from scipy import stats\n",
        "\n",
        "# Simulate data with known population mean and standard deviation\n",
        "population_mean = 10\n",
        "population_std = 2\n",
        "sample_size = 50\n",
        "\n",
        "# Generate a sample from the population\n",
        "sample = np.random.normal(population_mean, population_std, sample_size)\n",
        "\n",
        "# Perform Z-test (assuming population standard deviation is known)\n",
        "# Calculate the sample mean\n",
        "sample_mean = np.mean(sample)\n",
        "# Calculate the z-score using the formula directly\n",
        "# instead of stats.zscore (since 'loc' and 'scale' might not be supported)\n",
        "z_score = (sample_mean - population_mean) / (population_std / np.sqrt(sample_size))\n",
        "\n",
        "# Calculate p-value based on the z-score (two-tailed test)\n",
        "p_value_z = 2 * (1 - stats.norm.cdf(abs(z_score)))\n",
        "print(f\"Z-score: {z_score}, p-value (Z-test): {p_value_z}\")\n",
        "\n",
        "# Perform T-test (assuming population standard deviation is unknown)\n",
        "t_score, p_value_t = stats.ttest_1samp(sample, population_mean)\n",
        "print(f\"T-score: {t_score}, p-value (T-test): {p_value_t}\")\n",
        "\n",
        "# Comparing results:\n",
        "print(\"-\" * 30)\n",
        "print(\"Comparison:\")\n",
        "print(f\"Z-test p-value: {p_value_z}\")\n",
        "print(f\"T-test p-value: {p_value_t}\")\n"
      ],
      "metadata": {
        "colab": {
          "base_uri": "https://localhost:8080/"
        },
        "id": "UwkFfjPVDG4q",
        "outputId": "1f956a08-a515-4a1a-ed3d-7430a75e08b7"
      },
      "execution_count": null,
      "outputs": [
        {
          "output_type": "stream",
          "name": "stdout",
          "text": [
            "Z-score: 0.0024000219647045337, p-value (Z-test): 0.9980850613671495\n",
            "T-score: 0.0023280815672224084, p-value (T-test): 0.998151913821568\n",
            "------------------------------\n",
            "Comparison:\n",
            "Z-test p-value: 0.9980850613671495\n",
            "T-test p-value: 0.998151913821568\n"
          ]
        }
      ]
    },
    {
      "cell_type": "code",
      "source": [
        "#Q 9: Write a Python function to calculate the confidence interval for a sample mean and explain its significance.\n",
        "import numpy as np\n",
        "import scipy.stats as st\n",
        "\n",
        "# define sample data\n",
        "gfg_data = [1, 1, 1, 2, 2, 2, 3, 3, 3, 3,\n",
        "            3, 4, 4, 5, 5, 5, 6, 7, 8, 10]\n",
        "\n",
        "# create 90% confidence interval\n",
        "# The 'alpha' parameter should be 1 - confidence level\n",
        "st.t.interval(confidence=0.90, df=len(gfg_data)-1,\n",
        "              loc=np.mean(gfg_data),\n",
        "              scale=st.sem(gfg_data))"
      ],
      "metadata": {
        "colab": {
          "base_uri": "https://localhost:8080/"
        },
        "id": "r73zdB9qDkih",
        "outputId": "f4cbf3cf-9ee6-45c3-a1a4-ea94b6394e77"
      },
      "execution_count": null,
      "outputs": [
        {
          "output_type": "execute_result",
          "data": {
            "text/plain": [
              "(2.962098014195961, 4.837901985804038)"
            ]
          },
          "metadata": {},
          "execution_count": 48
        }
      ]
    },
    {
      "cell_type": "code",
      "source": [
        "# Q 10: Write a Python program to calculate the margin of error for a given confidence level using sample data.\n",
        "import numpy as np\n",
        "from scipy import stats  # Import necessary function from scipy library\n",
        "\n",
        "def calculate_margin_of_error(sample_data, confidence_level=0.95):\n",
        "    \"\"\"\n",
        "    Calculates the margin of error for a given confidence level based on sample data.\n",
        "\n",
        "    Args:\n",
        "        sample_data (list): List of data points from the sample.\n",
        "        confidence_level (float, optional): Desired confidence level (default is 0.95).\n",
        "\n",
        "    Returns:\n",
        "        float: Margin of error.\n",
        "    \"\"\"\n",
        "\n",
        "    sample_mean =  np.mean(sample_data)  # Calculate sample mean\n",
        "    sample_std = stats.tstd(sample_data)  # Calculate sample standard deviation\n",
        "    sample_size = len(sample_data)\n",
        "\n",
        "    # Find the critical z-score based on confidence level\n",
        "    z_critical = stats.norm.ppf((confidence_level + (1 - confidence_level)) / 2)\n",
        "\n",
        "    margin_of_error = z_critical * (sample_std / (sample_size ** 0.5))\n",
        "\n",
        "    return margin_of_error\n",
        "\n",
        "# Example usage\n",
        "sample_data = [10, 12, 8, 15, 9, 11, 13]\n",
        "confidence_level = 0.95\n",
        "\n",
        "margin_error = calculate_margin_of_error(sample_data, confidence_level)\n",
        "print(f\"Margin of error at {confidence_level*100}% confidence level: {margin_error}\")\n"
      ],
      "metadata": {
        "id": "UkfvQgb_ExLh",
        "colab": {
          "base_uri": "https://localhost:8080/"
        },
        "outputId": "b2b1c8dd-9c83-453e-ae1e-0a8d40cee7e6"
      },
      "execution_count": null,
      "outputs": [
        {
          "output_type": "stream",
          "name": "stdout",
          "text": [
            "Margin of error at 95.0% confidence level: 0.0\n"
          ]
        }
      ]
    },
    {
      "cell_type": "code",
      "source": [],
      "metadata": {
        "id": "DiS6mHLg2XAZ"
      },
      "execution_count": null,
      "outputs": []
    }
  ]
}